{
 "cells": [
  {
   "cell_type": "markdown",
   "id": "44dfa027",
   "metadata": {},
   "source": [
    "***EXTENSIONS FOR newdate PIPELINE YOU CAN EDIT THESE EXTENSIONS***"
   ]
  },
  {
   "cell_type": "markdown",
   "id": "18b8700c",
   "metadata": {},
   "source": [
    "***EXTENSIONS FOR SOURCE STAGE***"
   ]
  },
  {
   "cell_type": "code",
   "execution_count": null,
   "id": "65c9ddc6",
   "metadata": {},
   "outputs": [],
   "source": [
    "def sourcePreExecutionHook():\n",
    "\tprint('inside source pre execution hook')\n",
    "\n",
    "\n",
    "def sourcePostExecutionHook(data):\n",
    "\tprint('inside source post execution hook')\n",
    "\n",
    "\n"
   ]
  },
  {
   "cell_type": "markdown",
   "id": "ddca5bdd",
   "metadata": {},
   "source": [
    "***EXTENSIONS FOR OPERATION STAGE***"
   ]
  },
  {
   "cell_type": "code",
   "execution_count": null,
   "id": "452cf2f8",
   "metadata": {},
   "outputs": [],
   "source": [
    "def operationPreExecutionHook():\n",
    "\tprint('inside operation pre execution hook')\n",
    "\n",
    "\n",
    "def operationPostExecutionHook(data):\n",
    "\tprint('inside operation post execution hook')\n",
    "\n",
    "\n"
   ]
  },
  {
   "cell_type": "markdown",
   "id": "80fd1954",
   "metadata": {},
   "source": [
    "***EXTENSIONS FOR SINK STAGE***"
   ]
  },
  {
   "cell_type": "code",
   "execution_count": null,
   "id": "8c255ff4",
   "metadata": {},
   "outputs": [],
   "source": [
    "def sinkPreExecutionHook():\n",
    "\tprint('inside sink pre execution hook')\n",
    "\n",
    "\n",
    "def sinkPostExecutionHook(data):\n",
    "\tprint('inside sink post execution hook')\n",
    "\n",
    "\n"
   ]
  }
 ],
 "metadata": {},
 "nbformat": 4,
 "nbformat_minor": 5
}
